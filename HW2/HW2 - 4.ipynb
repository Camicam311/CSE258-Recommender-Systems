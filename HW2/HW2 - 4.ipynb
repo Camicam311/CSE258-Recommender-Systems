{
 "cells": [
  {
   "cell_type": "code",
   "execution_count": 22,
   "metadata": {},
   "outputs": [
    {
     "name": "stdout",
     "output_type": "stream",
     "text": [
      "Reading data...\n",
      "done\n"
     ]
    }
   ],
   "source": [
    "import numpy\n",
    "import urllib\n",
    "import scipy.optimize\n",
    "import random\n",
    "from math import *\n",
    "\n",
    "def parseData(fname):\n",
    "  for l in urllib.urlopen(fname):\n",
    "    yield eval(l)\n",
    "\n",
    "print \"Reading data...\"\n",
    "data = list(parseData(\"file:beer_50000.json\"))\n",
    "print \"done\""
   ]
  },
  {
   "cell_type": "code",
   "execution_count": 35,
   "metadata": {
    "collapsed": true
   },
   "outputs": [],
   "source": [
    "def feature(datum):\n",
    "  text = datum['review/text'].lower().replace(',',' ').replace('?',' ')\\\n",
    "          .replace('!',' ').replace(':',' ').replace('\"',' ').replace('.',' ')\\\n",
    "          .replace('(',' ').replace(')',' ').split()\n",
    "  num_lactic = 0\n",
    "  num_tart = 0\n",
    "  num_sour = 0\n",
    "  num_citric = 0\n",
    "  num_sweet = 0\n",
    "  num_acid = 0\n",
    "  num_hop = 0\n",
    "  num_fruit = 0\n",
    "  num_salt = 0\n",
    "  num_spicy = 0\n",
    "  for word in text:\n",
    "    if word == 'lactic':  num_lactic += 1\n",
    "    if word == 'tart':  num_tart += 1\n",
    "    if word == 'sour':  num_sour += 1\n",
    "    if word == 'citric':  num_citric += 1\n",
    "    if word == 'sweet':  num_sweet += 1\n",
    "    if word == 'acid':  num_acid += 1\n",
    "    if word == 'hop':  num_hop += 1\n",
    "    if word == 'fruit':  num_fruit += 1\n",
    "    if word == 'salt':  num_salt += 1\n",
    "    if word == 'spicy':  num_spicy += 1\n",
    "        \n",
    "  feat = [1, num_lactic, num_tart, num_sour, \\\n",
    "         num_citric, num_sweet, num_acid, num_hop, \\\n",
    "         num_fruit, num_salt, num_spicy] \n",
    "  return feat\n",
    "\n",
    "X = [feature(d) for d in data]\n",
    "y = [d['beer/ABV'] >= 6.5 for d in data]\n",
    "\n",
    "def inner(x,y):\n",
    "  return sum([x[i]*y[i] for i in range(len(x))])\n",
    "\n",
    "def sigmoid(x):\n",
    "  res = 1.0 / (1 + exp(-x))\n",
    "  return res"
   ]
  },
  {
   "cell_type": "code",
   "execution_count": 36,
   "metadata": {
    "collapsed": true
   },
   "outputs": [],
   "source": [
    "length = int(len(data)/3)\n",
    "\n",
    "X_train = X[:length]\n",
    "y_train = y[:length]\n",
    "\n",
    "X_validation = X[length:2*length]\n",
    "y_validation = y[length:2*length]\n",
    "\n",
    "X_test = X[2*length:]\n",
    "y_test = y[2*length:]"
   ]
  },
  {
   "cell_type": "code",
   "execution_count": 37,
   "metadata": {
    "collapsed": true
   },
   "outputs": [],
   "source": [
    "# Count for number of total data, y=0 and y=1\n",
    "num_total = len(y_train)\n",
    "num_y0 = y_train.count(0)\n",
    "num_y1 = y_train.count(1)"
   ]
  },
  {
   "cell_type": "code",
   "execution_count": 38,
   "metadata": {},
   "outputs": [
    {
     "name": "stdout",
     "output_type": "stream",
     "text": [
      "[-0.11710314  0.00228235  0.01154569 -0.02494431 -0.00546974  0.3692712\n",
      "  0.00291828 -0.04271636  0.17149857 -0.0011052   0.00371526]\n"
     ]
    }
   ],
   "source": [
    "# NEGATIVE Log-likelihood\n",
    "def f(theta, X, y, lam):\n",
    "  loglikelihood = 0\n",
    "  for i in range(len(X)):\n",
    "    logit = inner(X[i], theta)\n",
    "    if y[i]:\n",
    "      loglikelihood -= log(1 + exp(-logit)) * num_total / (2 * num_y1)\n",
    "    if not y[i]:\n",
    "      loglikelihood -= (log(1 + exp(-logit)) + logit ) * num_total / (2 * num_y0)\n",
    "  for k in range(len(theta)):\n",
    "    loglikelihood -= lam * theta[k]*theta[k]\n",
    "  # for debugging\n",
    "  # print(\"ll =\" + str(loglikelihood))\n",
    "  return -loglikelihood\n",
    "\n",
    "# NEGATIVE Derivative of log-likelihood\n",
    "def fprime(theta, X, y, lam):\n",
    "  dl = [0]*len(theta)\n",
    "  for i in range(len(X)):\n",
    "    logit = inner(X[i], theta)\n",
    "    for k in range(len(theta)):\n",
    "      if y[i]:\n",
    "        dl[k] += X[i][k] * (1 - sigmoid(logit)) * num_total / (2 * num_y1)\n",
    "      if not y[i]:\n",
    "        dl[k] -= X[i][k] * (1 - sigmoid(logit)) * num_total / (2 * num_y0)\n",
    "  for k in range(len(theta)):\n",
    "    dl[k] -= lam*2*theta[k]\n",
    "  return numpy.array([-x for x in dl])\n",
    "\n",
    "def train(lam):\n",
    "  theta,_,_ = scipy.optimize.fmin_l_bfgs_b(f, [0]*len(X[0]), fprime, pgtol = 10, args = (X_train, y_train, lam))\n",
    "  return theta\n",
    "\n",
    "lam = 1.0\n",
    "theta = train(lam)\n",
    "print theta"
   ]
  },
  {
   "cell_type": "code",
   "execution_count": 39,
   "metadata": {},
   "outputs": [
    {
     "name": "stdout",
     "output_type": "stream",
     "text": [
      "λ\tDataset\t\tTruePositive\tFalsePositive\tTrueNegative\tFalseNegative\tAccuracy\tBER\n",
      "1.0\ttrain\t\t4380.0\t\t2482.0\t\t4836.0\t\t4968.0\t\t0.552982119285\t0.435307141797\n",
      "1.0\tvalid\t\t7290.0\t\t210.0\t\t548.0\t\t8618.0\t\t0.470298811952\t0.409392429955\n",
      "1.0\ttest\t\t2755.0\t\t3817.0\t\t6938.0\t\t3158.0\t\t0.581533477322\t0.444491075971\n"
     ]
    }
   ],
   "source": [
    "X_data = [X_train, X_validation, X_test]\n",
    "y_data = [y_train, y_validation, y_test]\n",
    "symbol = ['train', 'valid', 'test']\n",
    "print 'λ\\tDataset\\t\\tTruePositive\\tFalsePositive\\tTrueNegative\\tFalseNegative\\tAccuracy\\tBER'\n",
    "for i in range(3):\n",
    "    def TP(theta):\n",
    "      scores = [inner(theta,x) for x in X_data[i]]\n",
    "      predictions = [s > 0 for s in scores]\n",
    "      correct = [((a==1) and (b==1)) for (a,b) in zip(predictions,y_data[i])]\n",
    "      tp = sum(correct) * 1.0\n",
    "      return tp\n",
    "\n",
    "    def TN(theta):\n",
    "      scores = [inner(theta,x) for x in X_data[i]]\n",
    "      predictions = [s > 0 for s in scores]\n",
    "      correct = [((a==0) and (b==0)) for (a,b) in zip(predictions,y_data[i])]\n",
    "      tn = sum(correct) * 1.0\n",
    "      return tn\n",
    "\n",
    "    def FP(theta):\n",
    "      scores = [inner(theta,x) for x in X_data[i]]\n",
    "      predictions = [s > 0 for s in scores]\n",
    "      correct = [((a==1) and (b==0)) for (a,b) in zip(predictions,y_data[i])]\n",
    "      fp = sum(correct) * 1.0\n",
    "      return fp\n",
    "\n",
    "    def FN(theta):\n",
    "      scores = [inner(theta,x) for x in X_data[i]]\n",
    "      predictions = [s > 0 for s in scores]\n",
    "      correct = [((a==0) and (b==1)) for (a,b) in zip(predictions,y_data[i])]\n",
    "      fn = sum(correct) * 1.0\n",
    "      return fn\n",
    "\n",
    "    tp = TP(theta)\n",
    "    fp = FP(theta)\n",
    "    tn = TN(theta)\n",
    "    fn = FN(theta)\n",
    "    TPR = tp / (tp + fn)\n",
    "    TNR = tn / (tn + fp)\n",
    "    BER = 1 - 0.5 * (TPR + TNR)\n",
    "    accuracy = (tp+tn)/(tp+tn+fp+fn)\n",
    "    print str(lam)+'\\t'+symbol[i]+'\\t\\t'+str(tp)+'\\t\\t'+str(fp)+'\\t\\t'+str(tn)+'\\t\\t'+str(fn)+'\\t\\t'+str(accuracy)+'\\t'+str(BER)"
   ]
  },
  {
   "cell_type": "code",
   "execution_count": null,
   "metadata": {
    "collapsed": true
   },
   "outputs": [],
   "source": []
  },
  {
   "cell_type": "code",
   "execution_count": null,
   "metadata": {
    "collapsed": true
   },
   "outputs": [],
   "source": []
  },
  {
   "cell_type": "code",
   "execution_count": 40,
   "metadata": {},
   "outputs": [
    {
     "name": "stdout",
     "output_type": "stream",
     "text": [
      "λ\tDataset\t\tTruePositive\tFalsePositive\tTrueNegative\tFalseNegative\tAccuracy\tBER\n",
      "1.0\ttrain\t\t9177.0\t\t7128.0\t\t190.0\t\t171.0\t\t0.562042481699\t0.496164652477\n",
      "1.0\tvalid\t\t15746.0\t\t744.0\t\t14.0\t\t162.0\t\t0.945637825513\t0.495856949226\n",
      "1.0\ttest\t\t5831.0\t\t10545.0\t\t210.0\t\t82.0\t\t0.36243100552\t0.497170973537\n"
     ]
    }
   ],
   "source": [
    "# Original Algorithm\n",
    "# NEGATIVE Log-likelihood\n",
    "def f(theta, X, y, lam):\n",
    "  loglikelihood = 0\n",
    "  for i in range(len(X)):\n",
    "    logit = inner(X[i], theta)\n",
    "    loglikelihood -= log(1 + exp(-logit))\n",
    "    if not y[i]:\n",
    "      loglikelihood -= logit\n",
    "  for k in range(len(theta)):\n",
    "    loglikelihood -= lam * theta[k]*theta[k]\n",
    "  # for debugging\n",
    "  # print(\"ll =\" + str(loglikelihood))\n",
    "  return -loglikelihood\n",
    "\n",
    "# NEGATIVE Derivative of log-likelihood\n",
    "def fprime(theta, X, y, lam):\n",
    "  dl = [0]*len(theta)\n",
    "  for i in range(len(X)):\n",
    "    logit = inner(X[i], theta)\n",
    "    for k in range(len(theta)):\n",
    "      dl[k] += X[i][k] * (1 - sigmoid(logit))\n",
    "      if not y[i]:\n",
    "        dl[k] -= X[i][k]\n",
    "  for k in range(len(theta)):\n",
    "    dl[k] -= lam*2*theta[k]\n",
    "  return numpy.array([-x for x in dl])\n",
    "\n",
    "def train(lam):\n",
    "  theta,_,_ = scipy.optimize.fmin_l_bfgs_b(f, [0]*len(X[0]), fprime, pgtol = 10, args = (X_train, y_train, lam))\n",
    "  return theta\n",
    "\n",
    "lam = 1.0\n",
    "theta = train(lam)\n",
    "\n",
    "X_data = [X_train, X_validation, X_test]\n",
    "y_data = [y_train, y_validation, y_test]\n",
    "symbol = ['train', 'valid', 'test']\n",
    "print 'λ\\tDataset\\t\\tTruePositive\\tFalsePositive\\tTrueNegative\\tFalseNegative\\tAccuracy\\tBER'\n",
    "for i in range(3):\n",
    "    def TP(theta):\n",
    "      scores = [inner(theta,x) for x in X_data[i]]\n",
    "      predictions = [s > 0 for s in scores]\n",
    "      correct = [((a==1) and (b==1)) for (a,b) in zip(predictions,y_data[i])]\n",
    "      tp = sum(correct) * 1.0\n",
    "      return tp\n",
    "\n",
    "    def TN(theta):\n",
    "      scores = [inner(theta,x) for x in X_data[i]]\n",
    "      predictions = [s > 0 for s in scores]\n",
    "      correct = [((a==0) and (b==0)) for (a,b) in zip(predictions,y_data[i])]\n",
    "      tn = sum(correct) * 1.0\n",
    "      return tn\n",
    "\n",
    "    def FP(theta):\n",
    "      scores = [inner(theta,x) for x in X_data[i]]\n",
    "      predictions = [s > 0 for s in scores]\n",
    "      correct = [((a==1) and (b==0)) for (a,b) in zip(predictions,y_data[i])]\n",
    "      fp = sum(correct) * 1.0\n",
    "      return fp\n",
    "\n",
    "    def FN(theta):\n",
    "      scores = [inner(theta,x) for x in X_data[i]]\n",
    "      predictions = [s > 0 for s in scores]\n",
    "      correct = [((a==0) and (b==1)) for (a,b) in zip(predictions,y_data[i])]\n",
    "      fn = sum(correct) * 1.0\n",
    "      return fn\n",
    "\n",
    "    tp = TP(theta)\n",
    "    fp = FP(theta)\n",
    "    tn = TN(theta)\n",
    "    fn = FN(theta)\n",
    "    TPR = tp / (tp + fn)\n",
    "    TNR = tn / (tn + fp)\n",
    "    BER = 1 - 0.5 * (TPR + TNR)\n",
    "    accuracy = (tp+tn)/(tp+tn+fp+fn)\n",
    "    print str(lam)+'\\t'+symbol[i]+'\\t\\t'+str(tp)+'\\t\\t'+str(fp)+'\\t\\t'+str(tn)+'\\t\\t'+str(fn)+'\\t\\t'+str(accuracy)+'\\t'+str(BER)"
   ]
  },
  {
   "cell_type": "code",
   "execution_count": null,
   "metadata": {
    "collapsed": true
   },
   "outputs": [],
   "source": []
  },
  {
   "cell_type": "code",
   "execution_count": null,
   "metadata": {
    "collapsed": true
   },
   "outputs": [],
   "source": []
  },
  {
   "cell_type": "code",
   "execution_count": null,
   "metadata": {
    "collapsed": true
   },
   "outputs": [],
   "source": []
  }
 ],
 "metadata": {
  "kernelspec": {
   "display_name": "Python 2",
   "language": "python",
   "name": "python2"
  },
  "language_info": {
   "codemirror_mode": {
    "name": "ipython",
    "version": 2
   },
   "file_extension": ".py",
   "mimetype": "text/x-python",
   "name": "python",
   "nbconvert_exporter": "python",
   "pygments_lexer": "ipython2",
   "version": "2.7.14"
  }
 },
 "nbformat": 4,
 "nbformat_minor": 2
}
