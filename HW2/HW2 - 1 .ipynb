{
 "cells": [
  {
   "cell_type": "markdown",
   "metadata": {},
   "source": [
    "                                                       Name: Yan Sun  \n",
    "                                                       PID: A53240727"
   ]
  },
  {
   "cell_type": "markdown",
   "metadata": {},
   "source": [
    "1.The code currently does not perform any train/test splits. Split the data into training, validation, and\n",
    "test sets, via 1/3, 1/3, 1/3 splits. Use the first third, second third, and last third of the data (respectively).\n",
    "After training on the training set, report the accuracy of the classi\f",
    "er on the validation and test sets (1\n",
    "mark)."
   ]
  },
  {
   "cell_type": "code",
   "execution_count": 2,
   "metadata": {},
   "outputs": [
    {
     "name": "stdout",
     "output_type": "stream",
     "text": [
      "Reading data...\n",
      "done\n"
     ]
    }
   ],
   "source": [
    "import numpy\n",
    "import urllib\n",
    "import scipy.optimize\n",
    "import random\n",
    "from math import exp\n",
    "from math import log\n",
    "\n",
    "def parseData(fname):\n",
    "  for l in urllib.urlopen(fname):\n",
    "    yield eval(l)\n",
    "\n",
    "print(\"Reading data...\")\n",
    "data = list(parseData(\"file:beer_50000.json\"))\n",
    "print(\"done\")"
   ]
  },
  {
   "cell_type": "code",
   "execution_count": 8,
   "metadata": {
    "collapsed": true
   },
   "outputs": [],
   "source": [
    "def feature(datum):\n",
    "  feat = [1, datum['review/taste'], datum['review/appearance'], \\\n",
    "          datum['review/aroma'], datum['review/palate'], \\\n",
    "          datum['review/overall']]\n",
    "  return feat"
   ]
  },
  {
   "cell_type": "code",
   "execution_count": 9,
   "metadata": {
    "collapsed": true
   },
   "outputs": [],
   "source": [
    "X = [feature(d) for d in data]\n",
    "y = [d['beer/ABV'] >= 6.5 for d in data]\n",
    "\n",
    "def inner(x,y):\n",
    "  return sum([x[i]*y[i] for i in range(len(x))])\n",
    "\n",
    "def sigmoid(x):\n",
    "  return 1.0 / (1 + exp(-x))"
   ]
  },
  {
   "cell_type": "code",
   "execution_count": 5,
   "metadata": {
    "collapsed": true
   },
   "outputs": [],
   "source": [
    "length = int(len(data)/3)\n",
    "\n",
    "X_train = X[:length]\n",
    "y_train = y[:length]\n",
    "\n",
    "X_validation = X[length:2*length]\n",
    "y_validation = y[length:2*length]\n",
    "\n",
    "X_test = X[2*length:]\n",
    "y_test = y[2*length:]"
   ]
  },
  {
   "cell_type": "code",
   "execution_count": 6,
   "metadata": {
    "collapsed": true
   },
   "outputs": [],
   "source": [
    "##################################################\n",
    "# Logistic regression by gradient ascent         #\n",
    "##################################################\n",
    "\n",
    "# NEGATIVE Log-likelihood\n",
    "def f(theta, X, y, lam):\n",
    "  loglikelihood = 0\n",
    "  for i in range(len(X)):\n",
    "    logit = inner(X[i], theta)\n",
    "    loglikelihood -= log(1 + exp(-logit))\n",
    "    if not y[i]:\n",
    "      loglikelihood -= logit\n",
    "  for k in range(len(theta)):\n",
    "    loglikelihood -= lam * theta[k]*theta[k]\n",
    "  # for debugging\n",
    "  # print(\"ll =\" + str(loglikelihood))\n",
    "  return -loglikelihood\n",
    "\n",
    "# NEGATIVE Derivative of log-likelihood\n",
    "def fprime(theta, X, y, lam):\n",
    "  dl = [0]*len(theta)\n",
    "  for i in range(len(X)):\n",
    "    logit = inner(X[i], theta)\n",
    "    for k in range(len(theta)):\n",
    "      dl[k] += X[i][k] * (1 - sigmoid(logit))\n",
    "      if not y[i]:\n",
    "        dl[k] -= X[i][k]\n",
    "  for k in range(len(theta)):\n",
    "    dl[k] -= lam*2*theta[k]\n",
    "  return numpy.array([-x for x in dl])"
   ]
  },
  {
   "cell_type": "code",
   "execution_count": 7,
   "metadata": {},
   "outputs": [
    {
     "name": "stdout",
     "output_type": "stream",
     "text": [
      "λ\tDataset\t\tTruePositive\tFalsePositive\tTrueNegative\tFalseNegative\tAccuracy\tBER\n",
      "1.0\tvalid\t\t14702.0\t\t456.0\t\t302.0\t\t1206.0\t\t0.90027601104\t0.338697013102\n",
      "1.0\ttest\t\t4910.0\t\t6034.0\t\t4721.0\t\t1003.0\t\t0.577813774898\t0.365333811678\n"
     ]
    }
   ],
   "source": [
    "##################################################\n",
    "# Train                                          #\n",
    "##################################################\n",
    "\n",
    "def train(lam):\n",
    "  theta,_,_ = scipy.optimize.fmin_l_bfgs_b(f, [0]*len(X[0]), \\\n",
    "    fprime, pgtol = 10, args = (X_train, y_train, lam))\n",
    "  return theta\n",
    "X_data = [X_train, X_validation, X_test]\n",
    "y_data = [y_train, y_validation, y_test]\n",
    "symbol = ['train', 'valid', 'test']\n",
    "print 'λ\\tDataset\\t\\tTruePositive\\tFalsePositive\\tTrueNegative\\tFalseNegative\\tAccuracy\\tBER'\n",
    "lam = 1.0\n",
    "theta = train(lam)\n",
    "#print theta\n",
    "for i in range(3):\n",
    "    def TP(theta):\n",
    "      scores = [inner(theta,x) for x in X_data[i]]\n",
    "      predictions = [s > 0 for s in scores]\n",
    "      correct = [((a==1) and (b==1)) for (a,b) in zip(predictions,y_data[i])]\n",
    "      tp = sum(correct) * 1.0\n",
    "      return tp\n",
    "    def TN(theta):\n",
    "      scores = [inner(theta,x) for x in X_data[i]]\n",
    "      predictions = [s > 0 for s in scores]\n",
    "      correct = [((a==0) and (b==0)) for (a,b) in zip(predictions,y_data[i])]\n",
    "      tn = sum(correct) * 1.0\n",
    "      return tn\n",
    "    def FP(theta):\n",
    "      scores = [inner(theta,x) for x in X_data[i]]\n",
    "      predictions = [s > 0 for s in scores]\n",
    "      correct = [((a==1) and (b==0)) for (a,b) in zip(predictions,y_data[i])]\n",
    "      fp = sum(correct) * 1.0\n",
    "      return fp\n",
    "    def FN(theta):\n",
    "      scores = [inner(theta,x) for x in X_data[i]]\n",
    "      predictions = [s > 0 for s in scores]\n",
    "      correct = [((a==0) and (b==1)) for (a,b) in zip(predictions,y_data[i])]\n",
    "      fn = sum(correct) * 1.0\n",
    "      return fn\n",
    "    if i == 1 or i == 2 :\n",
    "        tp = TP(theta)\n",
    "        fp = FP(theta)\n",
    "        tn = TN(theta)\n",
    "        fn = FN(theta)\n",
    "        TPR = tp / (tp + fn)\n",
    "        TNR = tn / (tn + fp)\n",
    "        BER = 1 - 0.5 * (TPR + TNR)\n",
    "        accuracy = (tp+tn)/(tp+tn+fp+fn)\n",
    "        print str(lam)+'\\t'+symbol[i]+'\\t\\t'+str(tp)+'\\t\\t'+str(fp)+'\\t\\t'+str(tn)+'\\t\\t'+\\\n",
    "              str(fn)+'\\t\\t'+str(accuracy)+'\\t'+str(BER)"
   ]
  },
  {
   "cell_type": "code",
   "execution_count": null,
   "metadata": {
    "collapsed": true
   },
   "outputs": [],
   "source": []
  },
  {
   "cell_type": "code",
   "execution_count": null,
   "metadata": {
    "collapsed": true
   },
   "outputs": [],
   "source": [
    "# X_data, y_data can be changed to train, validation or test data\n",
    "def TP(theta):\n",
    "  scores = [inner(theta,x) for x in X_data[i]]\n",
    "  predictions = [s > 0 for s in scores]\n",
    "  correct = [((a==1) and (b==1)) for (a,b) in zip(predictions,y_data[i])]\n",
    "  tp = sum(correct) * 1.0\n",
    "  return tp\n",
    "def TN(theta):\n",
    "  scores = [inner(theta,x) for x in X_data[i]]\n",
    "  predictions = [s > 0 for s in scores]\n",
    "  correct = [((a==0) and (b==0)) for (a,b) in zip(predictions,y_data[i])]\n",
    "  tn = sum(correct) * 1.0\n",
    "  return tn\n",
    "def FP(theta):\n",
    "  scores = [inner(theta,x) for x in X_data[i]]\n",
    "  predictions = [s > 0 for s in scores]\n",
    "  correct = [((a==1) and (b==0)) for (a,b) in zip(predictions,y_data[i])]\n",
    "  fp = sum(correct) * 1.0\n",
    "  return fp\n",
    "def FN(theta):\n",
    "  scores = [inner(theta,x) for x in X_data[i]]\n",
    "  predictions = [s > 0 for s in scores]\n",
    "  correct = [((a==0) and (b==1)) for (a,b) in zip(predictions,y_data[i])]\n",
    "  fn = sum(correct) * 1.0\n",
    "  return fn\n",
    "tp = TP(theta)\n",
    "fp = FP(theta)\n",
    "tn = TN(theta)\n",
    "fn = FN(theta)\n",
    "TPR = tp / (tp + fn)\n",
    "TNR = tn / (tn + fp)\n",
    "BER = 1 - 0.5 * (TPR + TNR)\n",
    "accuracy = (tp+tn)/(tp+tn+fp+fn)"
   ]
  }
 ],
 "metadata": {
  "kernelspec": {
   "display_name": "Python 2",
   "language": "python",
   "name": "python2"
  },
  "language_info": {
   "codemirror_mode": {
    "name": "ipython",
    "version": 2
   },
   "file_extension": ".py",
   "mimetype": "text/x-python",
   "name": "python",
   "nbconvert_exporter": "python",
   "pygments_lexer": "ipython2",
   "version": "2.7.14"
  }
 },
 "nbformat": 4,
 "nbformat_minor": 1
}
