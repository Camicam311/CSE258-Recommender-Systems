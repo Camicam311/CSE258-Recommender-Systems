{
 "cells": [
  {
   "cell_type": "code",
   "execution_count": 115,
   "metadata": {
    "collapsed": true
   },
   "outputs": [],
   "source": [
    "import numpy\n",
    "import urllib\n",
    "import scipy.optimize\n",
    "import random\n",
    "from sklearn.decomposition import PCA\n",
    "from collections import defaultdict"
   ]
  },
  {
   "cell_type": "code",
   "execution_count": 116,
   "metadata": {
    "scrolled": true
   },
   "outputs": [
    {
     "name": "stdout",
     "output_type": "stream",
     "text": [
      "Reading data...\n",
      "done\n"
     ]
    }
   ],
   "source": [
    "### PCA on beer reviews ###\n",
    "\n",
    "def parseData(fname):\n",
    "  for l in urllib.urlopen(fname):\n",
    "    yield eval(l)\n",
    "\n",
    "print \"Reading data...\"\n",
    "data = list(parseData(\"file:beer_50000.json\"))\n",
    "print \"done\""
   ]
  },
  {
   "cell_type": "code",
   "execution_count": 125,
   "metadata": {},
   "outputs": [
    {
     "name": "stdout",
     "output_type": "stream",
     "text": [
      "[[ -6.58654576e-04   3.82041983e-03  -9.22747912e-03   9.76815710e-03\n",
      "    8.06320154e-01  -4.24613882e-04   5.86033391e-01   7.24956062e-02\n",
      "    1.79066612e-04   3.10041403e-02]\n",
      " [ -1.52068560e-03  -8.56143562e-03  -1.44207189e-02   1.43485661e-02\n",
      "   -5.88038768e-01   3.22609343e-04   8.08447920e-01  -2.95632970e-03\n",
      "   -1.24287628e-03   1.10693182e-02]\n",
      " [  3.97573719e-03   4.38402488e-02   8.99763840e-02   3.30346156e-03\n",
      "   -6.11156245e-02  -1.16662585e-04  -3.92586488e-02   9.91764361e-01\n",
      "    3.66048694e-04   3.29014837e-02]\n",
      " [ -5.02226738e-04   1.97928929e-02  -1.45674162e-02   1.98935619e-02\n",
      "   -1.66449308e-02  -1.03650256e-04  -2.63046074e-02  -3.48073233e-02\n",
      "    2.66675480e-03   9.98404912e-01]\n",
      " [  2.60128071e-02   2.25692634e-01   9.68674474e-01   3.46674156e-03\n",
      "    2.95442918e-03   9.46384754e-03   2.13537893e-02  -9.71722898e-02\n",
      "    7.63446209e-04   6.82647845e-03]\n",
      " [  3.20649395e-02   9.72066368e-01  -2.29536760e-01   1.14385274e-02\n",
      "   -5.92438716e-03   1.00114453e-02   2.00052439e-03  -2.18145964e-02\n",
      "    8.11814145e-03  -2.36588573e-02]\n",
      " [  7.58685114e-03  -1.27483996e-02  -6.37932687e-04   9.99516547e-01\n",
      "    1.15555075e-03   6.99641884e-03  -1.67666400e-02  -2.66054372e-03\n",
      "    5.36706712e-04  -2.01844135e-02]\n",
      " [  9.98288611e-01  -3.75657235e-02  -1.85085564e-02  -8.30123719e-03\n",
      "    7.61913305e-07   3.97149997e-02   1.25732558e-03  -6.17296562e-04\n",
      "   -4.07176375e-03   1.16885990e-03]\n",
      " [ -4.03344995e-02  -1.02123241e-02  -6.13446181e-03  -6.80856575e-03\n",
      "    5.53539814e-04   9.99054069e-01  -1.82531597e-04   1.32645326e-03\n",
      "   -8.57619440e-03   4.05610037e-04]\n",
      " [  3.43303627e-03  -8.37822559e-03   9.85973463e-04  -7.62385069e-04\n",
      "   -7.58578429e-04   8.63904953e-03   9.64470030e-04  -2.52992818e-05\n",
      "    9.99917133e-01  -2.46061723e-03]]\n"
     ]
    }
   ],
   "source": [
    "def feature(datum):\n",
    "  text = datum['review/text'].lower().replace(',',' ').replace('?',' ')\\\n",
    "          .replace('!',' ').replace(':',' ').replace('\"',' ').replace('.',' ')\\\n",
    "          .replace('(',' ').replace(')',' ').split()\n",
    "  num_lactic = 0\n",
    "  num_tart = 0\n",
    "  num_sour = 0\n",
    "  num_citric = 0\n",
    "  num_sweet = 0\n",
    "  num_acid = 0\n",
    "  num_hop = 0\n",
    "  num_fruit = 0\n",
    "  num_salt = 0\n",
    "  num_spicy = 0\n",
    "  for word in text:\n",
    "    if word == 'lactic':  num_lactic += 1\n",
    "    if word == 'tart':  num_tart += 1\n",
    "    if word == 'sour':  num_sour += 1\n",
    "    if word == 'citric':  num_citric += 1\n",
    "    if word == 'sweet':  num_sweet += 1\n",
    "    if word == 'acid':  num_acid += 1\n",
    "    if word == 'hop':  num_hop += 1\n",
    "    if word == 'fruit':  num_fruit += 1\n",
    "    if word == 'salt':  num_salt += 1\n",
    "    if word == 'spicy':  num_spicy += 1\n",
    "        \n",
    "  feat = [num_lactic, num_tart, num_sour, \\\n",
    "         num_citric, num_sweet, num_acid, num_hop, \\\n",
    "         num_fruit, num_salt, num_spicy] \n",
    "  return feat\n",
    "\n",
    "X = [feature(x) for x in data]\n",
    "y = [d['beer/style'] == 'American IPA' for d in data]\n",
    "\n",
    "length = int(len(data)/3)\n",
    "\n",
    "X_train = X[:length]\n",
    "X_validation = X[length:2*length]\n",
    "X_test = X[2*length:]\n",
    "\n",
    "y_train = y[:length]\n",
    "y_validation = y[length:2*length]\n",
    "y_test = y[2*length:]\n",
    "\n",
    "pca = PCA(n_components=10)\n",
    "pca.fit(X_train)\n",
    "print pca.components_"
   ]
  },
  {
   "cell_type": "code",
   "execution_count": 131,
   "metadata": {},
   "outputs": [
    {
     "name": "stdout",
     "output_type": "stream",
     "text": [
      "Reconstruction Error = 0.477154656688\n"
     ]
    }
   ],
   "source": [
    "cov = pca.get_covariance()\n",
    "err = 0\n",
    "for i in range(2,10):\n",
    "    com = pca.components_[i]\n",
    "    err += com.dot(cov).dot(numpy.transpose(com))\n",
    "print \"Reconstruction Error = \" + str(err)"
   ]
  },
  {
   "cell_type": "code",
   "execution_count": 128,
   "metadata": {
    "scrolled": true
   },
   "outputs": [
    {
     "name": "stdout",
     "output_type": "stream",
     "text": [
      "0.504943309399\n"
     ]
    }
   ],
   "source": [
    "err = 0\n",
    "for i in range(len(X_train)):\n",
    "    X_train_new = numpy.transpose(pca.components_[0:2]).dot(pca.components_[0:2].dot(X_train[i]))\n",
    "    for k in range(len(X_train[i])):\n",
    "        err += (X_train_new[k]-X[i][k])**2\n",
    "print err/len(X_train)"
   ]
  },
  {
   "cell_type": "code",
   "execution_count": 126,
   "metadata": {},
   "outputs": [
    {
     "name": "stdout",
     "output_type": "stream",
     "text": [
      "Reconstruction Error = 0.504943309399\n"
     ]
    }
   ],
   "source": [
    "for i in range(len(X_train)):\n",
    "    average = sum(X_train[i])/len(X_train[i])\n",
    "    for k in range(len(X_train[i])):\n",
    "        X_train[i][k] -= average\n",
    "X_train_T = numpy.transpose(X_train)\n",
    "cov = X_train_T.dot(X_train)\n",
    "err = 0\n",
    "for i in range(2,10):\n",
    "    com = pca.components_[i]\n",
    "    err += com.dot(cov).dot(numpy.transpose(com))\n",
    "print \"Reconstruction Error = \" + str(err/len(X_train))"
   ]
  },
  {
   "cell_type": "code",
   "execution_count": 129,
   "metadata": {},
   "outputs": [
    {
     "name": "stdout",
     "output_type": "stream",
     "text": [
      "0.489853044608\n"
     ]
    }
   ],
   "source": [
    "y = pca.components_[2:10].dot(numpy.transpose(X_train))\n",
    "for i in range(len(y)):\n",
    "    ave = sum(y[i])/len(y[i])\n",
    "    for k in range(len(y[i])):\n",
    "        y[i][k] = (y[i][k] - ave)**2\n",
    "err = []\n",
    "for j in range(len(y)):\n",
    "    err.append(sum(y[j]))\n",
    "print sum(err)/len(X_train)"
   ]
  },
  {
   "cell_type": "code",
   "execution_count": 140,
   "metadata": {
    "scrolled": true
   },
   "outputs": [
    {
     "data": {
      "image/png": "[encoded data removed]",
      "text/plain": [
       "<matplotlib.figure.Figure at 0xb646780>"
      ]
     },
     "metadata": {},
     "output_type": "display_data"
    }
   ],
   "source": [
    "import matplotlib.pyplot as plt\n",
    "X_2d_nonIPA = []\n",
    "Y_2d_nonIPA = []\n",
    "X_2d_IPA = []\n",
    "Y_2d_IPA = []\n",
    "for i in range(len(X_train)):\n",
    "    coord = pca.components_[0:2].dot(X_train[i])\n",
    "    if y_train[i]:\n",
    "      X_2d_IPA.append(coord[0])\n",
    "      Y_2d_IPA.append(coord[1])\n",
    "    if not y_train[i]:\n",
    "      X_2d_nonIPA.append(coord[0])\n",
    "      Y_2d_nonIPA.append(coord[1])\n",
    "        \n",
    "plt.scatter(X_2d_nonIPA,Y_2d_nonIPA,marker='o',color='b',alpha=0.5)\n",
    "plt.scatter(X_2d_IPA,Y_2d_IPA,marker='o',color='r',alpha=0.5)\n",
    "plt.show()                                     "
   ]
  },
  {
   "cell_type": "code",
   "execution_count": 139,
   "metadata": {},
   "outputs": [
    {
     "data": {
      "image/png": "[encoded data removed]",
      "text/plain": [
       "<matplotlib.figure.Figure at 0x148105c0>"
      ]
     },
     "metadata": {},
     "output_type": "display_data"
    }
   ],
   "source": [
    "import matplotlib.pyplot as plt\n",
    "X_2d_nonIPA = []\n",
    "Y_2d_nonIPA = []\n",
    "X_2d_IPA = []\n",
    "Y_2d_IPA = []\n",
    "for i in range(len(X_train)):\n",
    "    coord = pca.components_[0:2].dot(X_train[i])\n",
    "    if y_train[i]:\n",
    "      X_2d_IPA.append(coord[0])\n",
    "      Y_2d_IPA.append(coord[1])\n",
    "    if not y_train[i]:\n",
    "      X_2d_nonIPA.append(coord[0])\n",
    "      Y_2d_nonIPA.append(coord[1])\n",
    "        \n",
    "plt.scatter(X_2d_IPA,Y_2d_IPA,marker='o',color='r',alpha=0.5)\n",
    "plt.scatter(X_2d_nonIPA,Y_2d_nonIPA,marker='o',color='b',alpha=0.5)\n",
    "plt.show()    "
   ]
  },
  {
   "cell_type": "code",
   "execution_count": null,
   "metadata": {
    "collapsed": true
   },
   "outputs": [],
   "source": []
  },
  {
   "cell_type": "code",
   "execution_count": null,
   "metadata": {
    "collapsed": true
   },
   "outputs": [],
   "source": []
  },
  {
   "cell_type": "code",
   "execution_count": null,
   "metadata": {
    "collapsed": true
   },
   "outputs": [],
   "source": []
  }
 ],
 "metadata": {
  "kernelspec": {
   "display_name": "Python 2",
   "language": "python",
   "name": "python2"
  },
  "language_info": {
   "codemirror_mode": {
    "name": "ipython",
    "version": 2
   },
   "file_extension": ".py",
   "mimetype": "text/x-python",
   "name": "python",
   "nbconvert_exporter": "python",
   "pygments_lexer": "ipython2",
   "version": "2.7.14"
  }
 },
 "nbformat": 4,
 "nbformat_minor": 2
}
