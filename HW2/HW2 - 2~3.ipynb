{
 "cells": [
  {
   "cell_type": "code",
   "execution_count": 17,
   "metadata": {},
   "outputs": [
    {
     "name": "stdout",
     "output_type": "stream",
     "text": [
      "Reading data...\n",
      "done\n"
     ]
    }
   ],
   "source": [
    "import numpy\n",
    "import urllib\n",
    "import scipy.optimize\n",
    "import random\n",
    "from math import exp\n",
    "from math import log\n",
    "\n",
    "def parseData(fname):\n",
    "  for l in urllib.urlopen(fname):\n",
    "    yield eval(l)\n",
    "\n",
    "print \"Reading data...\"\n",
    "data = list(parseData(\"file:beer_50000.json\"))\n",
    "print \"done\""
   ]
  },
  {
   "cell_type": "code",
   "execution_count": 44,
   "metadata": {
    "collapsed": true
   },
   "outputs": [],
   "source": [
    "def feature(datum):\n",
    "  text = datum['review/text'].lower().replace(',',' ').replace('?',' ')\\\n",
    "          .replace('!',' ').replace(':',' ').replace('\"',' ').replace('.',' ')\\\n",
    "          .replace('(',' ').replace(')',' ').split()\n",
    "  num_lactic = 0\n",
    "  num_tart = 0\n",
    "  num_sour = 0\n",
    "  num_citric = 0\n",
    "  num_sweet = 0\n",
    "  num_acid = 0\n",
    "  num_hop = 0\n",
    "  num_fruit = 0\n",
    "  num_salt = 0\n",
    "  num_spicy = 0\n",
    "  for word in text:\n",
    "    if word == 'lactic':  num_lactic += 1\n",
    "    if word == 'tart':  num_tart += 1\n",
    "    if word == 'sour':  num_sour += 1\n",
    "    if word == 'citric':  num_citric += 1\n",
    "    if word == 'sweet':  num_sweet += 1\n",
    "    if word == 'acid':  num_acid += 1\n",
    "    if word == 'hop':  num_hop += 1\n",
    "    if word == 'fruit':  num_fruit += 1\n",
    "    if word == 'salt':  num_salt += 1\n",
    "    if word == 'spicy':  num_spicy += 1\n",
    "        \n",
    "  feat = [1, num_lactic, num_tart, num_sour, \\\n",
    "         num_citric, num_sweet, num_acid, num_hop, \\\n",
    "         num_fruit, num_salt, num_spicy] \n",
    "  return feat\n",
    "\n",
    "X = [feature(d) for d in data]\n",
    "y = [d['beer/ABV'] >= 6.5 for d in data]\n",
    "\n",
    "def inner(x,y):\n",
    "  return sum([x[i]*y[i] for i in range(len(x))])\n",
    "\n",
    "def sigmoid(x):\n",
    "  return 1.0 / (1 + exp(-x))"
   ]
  },
  {
   "cell_type": "code",
   "execution_count": 45,
   "metadata": {},
   "outputs": [
    {
     "name": "stdout",
     "output_type": "stream",
     "text": [
      "People drink for two main reasons: 1) to enjoy a high quality brew or 2) to get drunk. Which leaves me to question who would drink this crap? It would take a whole lot to get drunk off this super light beer. Also there is no real taste. Their ad says \"the beer drinker's light beer.\" Well maybe that's true, if the beer drinker normally drinks Coors. Very expensive. Ripoff!\n"
     ]
    }
   ],
   "source": [
    "print data[1293]['review/text']"
   ]
  },
  {
   "cell_type": "code",
   "execution_count": 46,
   "metadata": {
    "collapsed": true
   },
   "outputs": [],
   "source": [
    "length = int(len(data)/3)\n",
    "\n",
    "X_train = X[:length]\n",
    "y_train = y[:length]\n",
    "\n",
    "X_validation = X[length:2*length]\n",
    "y_validation = y[length:2*length]\n",
    "\n",
    "X_test = X[2*length:]\n",
    "y_test = y[2*length:]"
   ]
  },
  {
   "cell_type": "code",
   "execution_count": 47,
   "metadata": {},
   "outputs": [
    {
     "name": "stdout",
     "output_type": "stream",
     "text": [
      "[ 0.05661296  0.0126493   0.05153544 -0.09783307 -0.03142404  0.28601947\n",
      "  0.02807208 -0.01155924  0.40824656 -0.00520071  0.0071504 ]\n"
     ]
    }
   ],
   "source": [
    "# NEGATIVE Log-likelihood\n",
    "def f(theta, X, y, lam):\n",
    "  loglikelihood = 0\n",
    "  for i in range(len(X)):\n",
    "    logit = inner(X[i], theta)\n",
    "    loglikelihood -= log(1 + exp(-logit))\n",
    "    if not y[i]:\n",
    "      loglikelihood -= logit\n",
    "  for k in range(len(theta)):\n",
    "    loglikelihood -= lam * theta[k]*theta[k]\n",
    "  # for debugging\n",
    "  # print(\"ll =\" + str(loglikelihood))\n",
    "  return -loglikelihood\n",
    "\n",
    "# NEGATIVE Derivative of log-likelihood\n",
    "def fprime(theta, X, y, lam):\n",
    "  dl = [0]*len(theta)\n",
    "  for i in range(len(X)):\n",
    "    logit = inner(X[i], theta)\n",
    "    for k in range(len(theta)):\n",
    "      dl[k] += X[i][k] * (1 - sigmoid(logit))\n",
    "      if not y[i]:\n",
    "        dl[k] -= X[i][k]\n",
    "  for k in range(len(theta)):\n",
    "    dl[k] -= lam*2*theta[k]\n",
    "  return numpy.array([-x for x in dl])\n",
    "\n",
    "def train(lam):\n",
    "  theta,_,_ = scipy.optimize.fmin_l_bfgs_b(f, [0]*len(X[0]), fprime, pgtol = 10, args = (X_train, y_train, lam))\n",
    "  return theta\n",
    "\n",
    "lam = 1.0\n",
    "theta = train(lam)\n",
    "print theta"
   ]
  },
  {
   "cell_type": "code",
   "execution_count": 48,
   "metadata": {},
   "outputs": [
    {
     "name": "stdout",
     "output_type": "stream",
     "text": [
      "lambda = 1.0:\ttrue positive=5831.0\n"
     ]
    }
   ],
   "source": [
    "def TP(theta):\n",
    "  scores = [inner(theta,x) for x in X_test]\n",
    "  predictions = [s > 0 for s in scores]\n",
    "  correct = [((a==1) and (b==1)) for (a,b) in zip(predictions,y_test)]\n",
    "  tp = sum(correct) * 1.0\n",
    "  return tp\n",
    "\n",
    "tp = TP(theta)\n",
    "print(\"lambda = \" + str(lam) + \":\\ttrue positive=\" + str(tp))"
   ]
  },
  {
   "cell_type": "code",
   "execution_count": 49,
   "metadata": {},
   "outputs": [
    {
     "name": "stdout",
     "output_type": "stream",
     "text": [
      "lambda = 1.0:\ttrue negative=210.0\n"
     ]
    }
   ],
   "source": [
    "def TN(theta):\n",
    "  scores = [inner(theta,x) for x in X_test]\n",
    "  predictions = [s > 0 for s in scores]\n",
    "  correct = [((a==0) and (b==0)) for (a,b) in zip(predictions,y_test)]\n",
    "  tn = sum(correct) * 1.0\n",
    "  return tn\n",
    "\n",
    "tn = TN(theta)\n",
    "print(\"lambda = \" + str(lam) + \":\\ttrue negative=\" + str(tn))"
   ]
  },
  {
   "cell_type": "code",
   "execution_count": 50,
   "metadata": {},
   "outputs": [
    {
     "name": "stdout",
     "output_type": "stream",
     "text": [
      "lambda = 1.0:\tfalse positive=10545.0\n"
     ]
    }
   ],
   "source": [
    "def FP(theta):\n",
    "  scores = [inner(theta,x) for x in X_test]\n",
    "  predictions = [s > 0 for s in scores]\n",
    "  correct = [((a==1) and (b==0)) for (a,b) in zip(predictions,y_test)]\n",
    "  fp = sum(correct) * 1.0\n",
    "  return fp\n",
    "\n",
    "fp = FP(theta)\n",
    "print(\"lambda = \" + str(lam) + \":\\tfalse positive=\" + str(fp))"
   ]
  },
  {
   "cell_type": "code",
   "execution_count": 51,
   "metadata": {},
   "outputs": [
    {
     "name": "stdout",
     "output_type": "stream",
     "text": [
      "lambda = 1.0:\tfalse negative=82.0\n"
     ]
    }
   ],
   "source": [
    "def FN(theta):\n",
    "  scores = [inner(theta,x) for x in X_test]\n",
    "  predictions = [s > 0 for s in scores]\n",
    "  correct = [((a==0) and (b==1)) for (a,b) in zip(predictions,y_test)]\n",
    "  fn = sum(correct) * 1.0\n",
    "  return fn\n",
    "\n",
    "fn = FN(theta)\n",
    "print(\"lambda = \" + str(lam) + \":\\tfalse negative=\" + str(fn))"
   ]
  },
  {
   "cell_type": "code",
   "execution_count": 52,
   "metadata": {},
   "outputs": [
    {
     "name": "stdout",
     "output_type": "stream",
     "text": [
      "Test Data\n",
      "True Positives = 5831.0\n",
      "True Negatives = 210.0\n",
      "False Positives = 10545.0\n",
      "False Negatives = 82.0\n",
      "Accuracy = 0.36243100552\n",
      "BER = 0.497170973537\n"
     ]
    }
   ],
   "source": [
    "TPR = tp / (tp + fn)\n",
    "TNR = tn / (tn + fp)\n",
    "BER = 1 - 0.5 * (TPR + TNR)\n",
    "print 'Test Data'\n",
    "print 'True Positives = ' + str(tp)\n",
    "print 'True Negatives = ' + str(tn)\n",
    "print 'False Positives = ' + str(fp)\n",
    "print 'False Negatives = ' + str(fn)\n",
    "print 'Accuracy = ' + str((tp+tn)/(tp+tn+fp+fn))\n",
    "print 'BER = ' + str(BER)"
   ]
  },
  {
   "cell_type": "code",
   "execution_count": 53,
   "metadata": {},
   "outputs": [
    {
     "name": "stdout",
     "output_type": "stream",
     "text": [
      "λ\tDataset\t\tTruePositive\tFalsePositive\tTrueNegative\tFalseNegative\tAccuracy\tBER\n",
      "1\ttest\t\t5831.0\t\t10545.0\t\t210.0\t\t82.0\t\t0.36243100552\t0.497170973537\n"
     ]
    }
   ],
   "source": [
    "X_data = [X_train, X_validation, X_test]\n",
    "y_data = [y_train, y_validation, y_test]\n",
    "symbol = ['train', 'valid', 'test']\n",
    "print 'λ\\tDataset\\t\\tTruePositive\\tFalsePositive\\tTrueNegative\\tFalseNegative\\tAccuracy\\tBER'\n",
    "\n",
    "for lam in [1]:\n",
    "    theta = train(lam)\n",
    "    #print theta\n",
    "    for i in range(3):\n",
    "        def TP(theta):\n",
    "          scores = [inner(theta,x) for x in X_data[i]]\n",
    "          predictions = [s > 0 for s in scores]\n",
    "          correct = [((a==1) and (b==1)) for (a,b) in zip(predictions,y_data[i])]\n",
    "          tp = sum(correct) * 1.0\n",
    "          return tp\n",
    "\n",
    "        def TN(theta):\n",
    "          scores = [inner(theta,x) for x in X_data[i]]\n",
    "          predictions = [s > 0 for s in scores]\n",
    "          correct = [((a==0) and (b==0)) for (a,b) in zip(predictions,y_data[i])]\n",
    "          tn = sum(correct) * 1.0\n",
    "          return tn\n",
    "\n",
    "        def FP(theta):\n",
    "          scores = [inner(theta,x) for x in X_data[i]]\n",
    "          predictions = [s > 0 for s in scores]\n",
    "          correct = [((a==1) and (b==0)) for (a,b) in zip(predictions,y_data[i])]\n",
    "          fp = sum(correct) * 1.0\n",
    "          return fp\n",
    "\n",
    "        def FN(theta):\n",
    "          scores = [inner(theta,x) for x in X_data[i]]\n",
    "          predictions = [s > 0 for s in scores]\n",
    "          correct = [((a==0) and (b==1)) for (a,b) in zip(predictions,y_data[i])]\n",
    "          fn = sum(correct) * 1.0\n",
    "          return fn\n",
    "        \n",
    "        if i == 2 :\n",
    "            tp = TP(theta)\n",
    "            fp = FP(theta)\n",
    "            tn = TN(theta)\n",
    "            fn = FN(theta)\n",
    "            TPR = tp / (tp + fn)\n",
    "            TNR = tn / (tn + fp)\n",
    "            BER = 1 - 0.5 * (TPR + TNR)\n",
    "            accuracy = (tp+tn)/(tp+tn+fp+fn)\n",
    "            print str(lam)+'\\t'+symbol[i]+'\\t\\t'+str(tp)+'\\t\\t'+str(fp)+'\\t\\t'+str(tn)+'\\t\\t'+str(fn)+'\\t\\t'+str(accuracy)+'\\t'+str(BER)"
   ]
  },
  {
   "cell_type": "code",
   "execution_count": null,
   "metadata": {
    "collapsed": true
   },
   "outputs": [],
   "source": []
  },
  {
   "cell_type": "code",
   "execution_count": null,
   "metadata": {
    "collapsed": true
   },
   "outputs": [],
   "source": []
  }
 ],
 "metadata": {
  "kernelspec": {
   "display_name": "Python 2",
   "language": "python",
   "name": "python2"
  },
  "language_info": {
   "codemirror_mode": {
    "name": "ipython",
    "version": 2
   },
   "file_extension": ".py",
   "mimetype": "text/x-python",
   "name": "python",
   "nbconvert_exporter": "python",
   "pygments_lexer": "ipython2",
   "version": "2.7.14"
  }
 },
 "nbformat": 4,
 "nbformat_minor": 2
}
