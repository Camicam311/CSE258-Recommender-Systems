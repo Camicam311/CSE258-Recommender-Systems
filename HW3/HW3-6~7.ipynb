{
 "cells": [
  {
   "cell_type": "code",
   "execution_count": 1,
   "metadata": {},
   "outputs": [
    {
     "name": "stdout",
     "output_type": "stream",
     "text": [
      "Reading data...\n",
      "done\n"
     ]
    }
   ],
   "source": [
    "import numpy\n",
    "import urllib\n",
    "import scipy.optimize\n",
    "import random\n",
    "import math\n",
    "from math import exp\n",
    "from math import log\n",
    "\n",
    "def parseData(fname):\n",
    "  for l in urllib.urlopen(fname):\n",
    "    yield eval(l)\n",
    "\n",
    "print \"Reading data...\"\n",
    "data = list(parseData(\"file:train.json\"))\n",
    "train_set = data[0:100000]\n",
    "valid_set = data[100000:200000]\n",
    "print \"done\""
   ]
  },
  {
   "cell_type": "code",
   "execution_count": 2,
   "metadata": {
    "collapsed": true
   },
   "outputs": [],
   "source": [
    "users = []\n",
    "items = []\n",
    "users_items = {}\n",
    "items_users = {}\n",
    "datum_index = 0\n",
    "for datum in train_set:\n",
    "    u,i = datum['userID'],datum['businessID']\n",
    "    if not u in users:\n",
    "        users.append(u)\n",
    "    if not i in items:\n",
    "        items.append(i)\n",
    "    if not users_items.has_key(u):\n",
    "        users_items[u] = [(i,datum_index)]\n",
    "    else:\n",
    "        users_items[u].append((i,datum_index))\n",
    "    if not items_users.has_key(i):\n",
    "        items_users[i] = [(u,datum_index)]\n",
    "    else:\n",
    "        items_users[i].append((u,datum_index))\n",
    "    datum_index += 1"
   ]
  },
  {
   "cell_type": "code",
   "execution_count": 3,
   "metadata": {
    "collapsed": true
   },
   "outputs": [],
   "source": [
    "sum_rating = 0\n",
    "count_rating = 0\n",
    "for u in users_items.keys():\n",
    "    for i in users_items[u]:\n",
    "        sum_rating += train_set[i[1]]['rating']\n",
    "        count_rating += 1\n",
    "alpha = float(sum_rating)/count_rating"
   ]
  },
  {
   "cell_type": "code",
   "execution_count": 4,
   "metadata": {},
   "outputs": [
    {
     "name": "stdout",
     "output_type": "stream",
     "text": [
      "4.18703\n"
     ]
    }
   ],
   "source": [
    "print alpha"
   ]
  },
  {
   "cell_type": "code",
   "execution_count": 5,
   "metadata": {
    "collapsed": true
   },
   "outputs": [],
   "source": [
    "beta_u = []\n",
    "for u in users_items.keys():\n",
    "    count_highrate = 0\n",
    "    count_rate = 0\n",
    "    for i in users_items[u]:\n",
    "        count_rate += 1\n",
    "        if train_set[i[1]]['rating'] > alpha:\n",
    "            count_highrate += 1\n",
    "        else:\n",
    "            count_highrate -= 1\n",
    "    beta_u.append(float(count_highrate)/count_rate)"
   ]
  },
  {
   "cell_type": "code",
   "execution_count": 6,
   "metadata": {
    "collapsed": true
   },
   "outputs": [],
   "source": [
    "beta_i = []\n",
    "for i in items_users.keys():\n",
    "    count_highrate = 0\n",
    "    count_rate = 0\n",
    "    for u in items_users[i]:\n",
    "        count_rate += 1\n",
    "        if train_set[u[1]]['rating'] > alpha:\n",
    "            count_highrate += 1\n",
    "        else:\n",
    "            count_highrate -= 1\n",
    "    beta_i.append(float(count_highrate)/count_rate)"
   ]
  },
  {
   "cell_type": "code",
   "execution_count": 7,
   "metadata": {
    "collapsed": true
   },
   "outputs": [],
   "source": [
    "def getIndex(a,b):\n",
    "    count = 0\n",
    "    for ele in b:\n",
    "        if ele == a:\n",
    "            return count\n",
    "        count += 1\n",
    "\n",
    "def f(Alpha,Betauser,Betaitem,lam):\n",
    "    f_err = 0\n",
    "    for u in users_items.keys():\n",
    "        user_index = getIndex(u,users)\n",
    "        for i in users_items[u]:\n",
    "            item_index = getIndex(i[0],items)\n",
    "            f_err += (Alpha+Betauser[user_index]+Betaitem[item_index]-train_set[i[1]]['rating'])**2 + \\\n",
    "                   lam * (Betauser[user_index]**2 + Betaitem[item_index]**2)            \n",
    "    return f_err\n",
    "                    \n",
    "def fprime_user(Alpha,Betauser,Betaitem,lam):\n",
    "    fprime_err = 0\n",
    "    for u in users_items.keys():\n",
    "        user_index = getIndex(u,users)\n",
    "        for i in users_items[u]:\n",
    "            item_index = getIndex(i[0],items)\n",
    "            fprime_err += 2 * (Alpha+Betauser[user_index]+Betaitem[item_index]-train_set[i[1]]['rating']) + \\\n",
    "                       2 * lam * Betauser[user_index]\n",
    "    return fprime_err\n",
    "\n",
    "def fprime_item(Alpha,Betauser,Betaitem,lam):\n",
    "    fprime_err = 0\n",
    "    for u in users_items.keys():\n",
    "        user_index = getIndex(u,users)\n",
    "        for i in users_items[u]:\n",
    "            item_index = getIndex(i[0],items)\n",
    "            fprime_err += 2 * (Alpha+Betauser[user_index]+Betaitem[item_index]-train_set[i[1]]['rating']) + \\\n",
    "                       2 * lam * Betaitem[item_index]\n",
    "    return fprime_err\n",
    "\n",
    "def RMSE(Alpha,Betauser,Betaitem):\n",
    "    square_err = 0\n",
    "    for u in users_items.keys():\n",
    "        user_index = getIndex(u,users)\n",
    "        for i in users_items[u]:\n",
    "            item_index = getIndex(i[0],items)\n",
    "            square_err += (Alpha+Betauser[user_index]+Betaitem[item_index]-train_set[i[1]]['rating'])**2\n",
    "    RMSE = math.sqrt(float(square_err)/len(train_set))\n",
    "    return RMSE\n",
    "\n",
    "def iterate(Alpha,Betauser,Betaitem,lam):\n",
    "    # Update alpha\n",
    "    sum_for_alpha = 0\n",
    "    for u in users_items.keys():\n",
    "        user_index = getIndex(u,users)\n",
    "        for i in users_items[u]:\n",
    "            item_index = getIndex(i[0],items)\n",
    "            sum_for_alpha += train_set[i[1]]['rating'] - Betauser[user_index] - Betaitem[item_index]\n",
    "    Alpha = float(sum_for_alpha) / len(train_set)\n",
    "    # Update beta_user\n",
    "    for u in users_items.keys():\n",
    "        sum_for_betauser = 0\n",
    "        count_item = 0\n",
    "        user_index = getIndex(u,users)\n",
    "        for i in users_items[u]:\n",
    "            item_index = getIndex(i[0],items)\n",
    "            count_item += 1\n",
    "            sum_for_betauser += train_set[i[1]]['rating'] - Alpha - Betaitem[item_index]\n",
    "        Betauser[user_index] = float(sum_for_betauser) / (lam + count_item)\n",
    "    # Update beta_item\n",
    "    for i in items_users.keys():\n",
    "        sum_for_betaitem = 0\n",
    "        count_user = 0\n",
    "        item_index = getIndex(i,items)\n",
    "        for u in items_users[i]:\n",
    "            user_index = getIndex(u[0],users)\n",
    "            count_user += 1\n",
    "            sum_for_betaitem += train_set[u[1]]['rating'] - Alpha - Betauser[user_index]\n",
    "        Betaitem[item_index] = float(sum_for_betaitem) / (lam + count_user)\n",
    "    return Alpha,Betauser,Betaitem"
   ]
  },
  {
   "cell_type": "code",
   "execution_count": 33,
   "metadata": {},
   "outputs": [
    {
     "name": "stdout",
     "output_type": "stream",
     "text": [
      "Initial RMSE = 1.34444733684\n",
      "Iter\tRMSE\n",
      "\n",
      "1\t0.616840042629\n",
      "2\t0.578743047209\n",
      "3\t0.575713443033\n",
      "4\t0.57509578092\n",
      "5\t0.574873808236\n",
      "6\t0.574764790434\n",
      "7\t0.574701410554\n",
      "8\t0.574660863238\n",
      "9\t0.57463338643\n",
      "10\t0.574614061406\n"
     ]
    }
   ],
   "source": [
    "a = alpha\n",
    "betau = beta_u\n",
    "betai = beta_i\n",
    "#print 'Initial RMSE = ' + str(RMSE(a,betau,betai))\n",
    "print 'Iter\\tRMSE'\n",
    "for iter_time in range(10):\n",
    "    count = iter_time + 1\n",
    "    a,betau,betai = iterate(a,betau,betai,1.0)\n",
    "    with open('lam-'+str(1)+'-'+str(count)+'-alpha.txt','w+') as f1:\n",
    "        f1.write(str(a))\n",
    "    f1.close()\n",
    "    with open('lam-'+str(1)+'-'+str(count)+'-betauser.txt','w+') as f2:\n",
    "        f2.write(str(betau))\n",
    "    f2.close()\n",
    "    with open('lam-'+str(1)+'-'+str(count)+'-betaitem.txt','w+') as f3:\n",
    "        f3.write(str(betai))\n",
    "    print str(count) + '\\t' + str(RMSE(a,betau,betai))"
   ]
  },
  {
   "cell_type": "code",
   "execution_count": null,
   "metadata": {
    "collapsed": true
   },
   "outputs": [],
   "source": [
    "Initial RMSE = 1.34444733684\n",
    "1\t0.616840042629\n",
    "2\t0.578743047209\n",
    "3\t0.575713443033\n",
    "4\t0.57509578092\n",
    "5\t0.574873808236\n",
    "6\t0.574764790434\n",
    "7\t0.574701410554\n",
    "8\t0.574660863238\n",
    "9\t0.57463338643\n",
    "10\t0.574614061406"
   ]
  },
  {
   "cell_type": "code",
   "execution_count": 35,
   "metadata": {
    "collapsed": true
   },
   "outputs": [],
   "source": [
    "with open('alpha.txt','w+') as f1:\n",
    "    f1.write(str(a))\n",
    "f1.close()\n",
    "with open('beta_user.txt','w+') as f2:\n",
    "    f2.write(str(betau))\n",
    "f2.close()\n",
    "with open('beta_item.txt','w+') as f3:\n",
    "    f3.write(str(betai))\n",
    "f3.close()"
   ]
  },
  {
   "cell_type": "code",
   "execution_count": null,
   "metadata": {
    "collapsed": true
   },
   "outputs": [],
   "source": []
  },
  {
   "cell_type": "code",
   "execution_count": null,
   "metadata": {
    "collapsed": true
   },
   "outputs": [],
   "source": []
  },
  {
   "cell_type": "code",
   "execution_count": 38,
   "metadata": {
    "collapsed": true
   },
   "outputs": [],
   "source": [
    "# MSE on validation set\n",
    "valid_square_err = 0\n",
    "for datum in valid_set:\n",
    "    u = datum['userID']\n",
    "    i = datum['businessID']\n",
    "    if not u in users:\n",
    "        valid_square_err += (a-datum['rating'])**2\n",
    "        continue\n",
    "    if not i in items:\n",
    "        valid_square_err += (a-datum['rating'])**2\n",
    "        continue\n",
    "    u_index = getIndex(u,users)\n",
    "    i_index = getIndex(i,items)\n",
    "    valid_square_err += (a+betau[u_index]+betai[i_index]-datum['rating'])**2\n",
    "valid_MSE = float(valid_square_err)/len(valid_set)"
   ]
  },
  {
   "cell_type": "code",
   "execution_count": 39,
   "metadata": {},
   "outputs": [
    {
     "name": "stdout",
     "output_type": "stream",
     "text": [
      "0.648616328111\n"
     ]
    }
   ],
   "source": [
    "print valid_MSE"
   ]
  },
  {
   "cell_type": "code",
   "execution_count": 40,
   "metadata": {},
   "outputs": [
    {
     "name": "stdout",
     "output_type": "stream",
     "text": [
      "0.648547133852\n"
     ]
    }
   ],
   "source": [
    "average_beta_user = sum(betau)/len(betau)\n",
    "average_beta_item = sum(betai)/len(betai)\n",
    "# MSE on validation set\n",
    "valid_square_err = 0\n",
    "for datum in valid_set:\n",
    "    u = datum['userID']\n",
    "    i = datum['businessID']\n",
    "    if not u in users:\n",
    "        valid_square_err += (a+average_beta_user+average_beta_item-datum['rating'])**2\n",
    "        continue\n",
    "    if not i in items:\n",
    "        valid_square_err += (a+average_beta_user+average_beta_item-datum['rating'])**2\n",
    "        continue\n",
    "    u_index = getIndex(u,users)\n",
    "    i_index = getIndex(i,items)\n",
    "    valid_square_err += (a+betau[u_index]+betai[i_index]-datum['rating'])**2\n",
    "valid_MSE = float(valid_square_err)/len(valid_set)\n",
    "print valid_MSE"
   ]
  },
  {
   "cell_type": "code",
   "execution_count": null,
   "metadata": {
    "collapsed": true
   },
   "outputs": [],
   "source": []
  },
  {
   "cell_type": "code",
   "execution_count": 41,
   "metadata": {},
   "outputs": [
    {
     "name": "stdout",
     "output_type": "stream",
     "text": [
      "Users Min\tU417838537\t-2.81039915248\n",
      "Users Max\tU357799541\t1.17511838921\n",
      "Items Min\tB241777680\t-2.25281230416\n",
      "Items Max\tB093985406\t1.15363404482\n"
     ]
    }
   ],
   "source": [
    "# Find max and min\n",
    "print 'Users Min\\t' + users[betau.index(min(betau))] + '\\t' + str(min(betau))\n",
    "print 'Users Max\\t' + users[betau.index(max(betau))] + '\\t' + str(max(betau))\n",
    "print 'Items Min\\t' + items[betai.index(min(betai))] + '\\t' + str(min(betai))\n",
    "print 'Items Max\\t' + items[betai.index(max(betai))] + '\\t' + str(max(betai))"
   ]
  },
  {
   "cell_type": "code",
   "execution_count": null,
   "metadata": {
    "collapsed": true
   },
   "outputs": [],
   "source": []
  },
  {
   "cell_type": "code",
   "execution_count": null,
   "metadata": {
    "collapsed": true
   },
   "outputs": [],
   "source": []
  },
  {
   "cell_type": "code",
   "execution_count": null,
   "metadata": {
    "collapsed": true
   },
   "outputs": [],
   "source": []
  },
  {
   "cell_type": "code",
   "execution_count": null,
   "metadata": {
    "collapsed": true
   },
   "outputs": [],
   "source": []
  },
  {
   "cell_type": "code",
   "execution_count": null,
   "metadata": {
    "collapsed": true
   },
   "outputs": [],
   "source": []
  },
  {
   "cell_type": "code",
   "execution_count": 28,
   "metadata": {
    "collapsed": true
   },
   "outputs": [],
   "source": [
    "def RMSE(Alpha,Betauser,Betaitem):\n",
    "    square_err = 0\n",
    "    for u in users_items.keys():\n",
    "        user_index = getIndex(u,users)\n",
    "        for i in users_items[u]:\n",
    "            item_index = getIndex(i[0],items)\n",
    "            square_err += (Alpha+Betauser[user_index]+Betaitem[item_index]-train_set[i[1]]['rating'])**2\n",
    "    RMSE = math.sqrt(float(square_err)/len(train_set))\n",
    "    return RMSE"
   ]
  },
  {
   "cell_type": "code",
   "execution_count": 42,
   "metadata": {},
   "outputs": [
    {
     "data": {
      "text/plain": [
       "0.5770364939576117"
      ]
     },
     "execution_count": 42,
     "metadata": {},
     "output_type": "execute_result"
    }
   ],
   "source": [
    "RMSE(alpha,betau,betai)"
   ]
  },
  {
   "cell_type": "code",
   "execution_count": 43,
   "metadata": {},
   "outputs": [
    {
     "data": {
      "text/plain": [
       "0.5770364939576117"
      ]
     },
     "execution_count": 43,
     "metadata": {},
     "output_type": "execute_result"
    }
   ],
   "source": [
    "RMSE(alpha,beta_u,beta_i)"
   ]
  },
  {
   "cell_type": "code",
   "execution_count": null,
   "metadata": {
    "collapsed": true
   },
   "outputs": [],
   "source": []
  },
  {
   "cell_type": "code",
   "execution_count": null,
   "metadata": {
    "collapsed": true
   },
   "outputs": [],
   "source": []
  },
  {
   "cell_type": "code",
   "execution_count": 14,
   "metadata": {
    "collapsed": true
   },
   "outputs": [],
   "source": [
    "def getIndex(a,b):\n",
    "    count = 0\n",
    "    for ele in b:\n",
    "        if ele == a:\n",
    "            return count\n",
    "        count += 1"
   ]
  },
  {
   "cell_type": "code",
   "execution_count": null,
   "metadata": {
    "collapsed": true
   },
   "outputs": [],
   "source": []
  },
  {
   "cell_type": "code",
   "execution_count": null,
   "metadata": {
    "collapsed": true
   },
   "outputs": [],
   "source": []
  },
  {
   "cell_type": "code",
   "execution_count": null,
   "metadata": {
    "collapsed": true
   },
   "outputs": [],
   "source": []
  },
  {
   "cell_type": "code",
   "execution_count": null,
   "metadata": {
    "collapsed": true
   },
   "outputs": [],
   "source": []
  },
  {
   "cell_type": "code",
   "execution_count": null,
   "metadata": {
    "collapsed": true
   },
   "outputs": [],
   "source": []
  },
  {
   "cell_type": "code",
   "execution_count": null,
   "metadata": {
    "collapsed": true
   },
   "outputs": [],
   "source": []
  },
  {
   "cell_type": "code",
   "execution_count": null,
   "metadata": {
    "collapsed": true
   },
   "outputs": [],
   "source": []
  }
 ],
 "metadata": {
  "kernelspec": {
   "display_name": "Python 2",
   "language": "python",
   "name": "python2"
  },
  "language_info": {
   "codemirror_mode": {
    "name": "ipython",
    "version": 2
   },
   "file_extension": ".py",
   "mimetype": "text/x-python",
   "name": "python",
   "nbconvert_exporter": "python",
   "pygments_lexer": "ipython2",
   "version": "2.7.14"
  }
 },
 "nbformat": 4,
 "nbformat_minor": 2
}
